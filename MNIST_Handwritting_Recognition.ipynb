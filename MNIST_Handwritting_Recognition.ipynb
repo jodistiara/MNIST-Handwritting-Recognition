{
  "nbformat": 4,
  "nbformat_minor": 0,
  "metadata": {
    "colab": {
      "name": "MNIST Handwritting Classification.ipynb",
      "version": "0.3.2",
      "provenance": [],
      "collapsed_sections": []
    },
    "kernelspec": {
      "name": "python3",
      "display_name": "Python 3"
    },
    "accelerator": "GPU"
  },
  "cells": [
    {
      "cell_type": "code",
      "metadata": {
        "id": "bjEGt6yN1t9h",
        "colab_type": "code",
        "outputId": "3862491e-4386-485f-b24e-c8db242a65d9",
        "colab": {
          "base_uri": "https://localhost:8080/",
          "height": 87
        }
      },
      "source": [
        "from tensorflow.examples.tutorials.mnist import input_data\n",
        "mnist = input_data.read_data_sets('MNIST_data', one_hot=True)"
      ],
      "execution_count": 0,
      "outputs": [
        {
          "output_type": "stream",
          "text": [
            "Extracting MNIST_data/train-images-idx3-ubyte.gz\n",
            "Extracting MNIST_data/train-labels-idx1-ubyte.gz\n",
            "Extracting MNIST_data/t10k-images-idx3-ubyte.gz\n",
            "Extracting MNIST_data/t10k-labels-idx1-ubyte.gz\n"
          ],
          "name": "stdout"
        }
      ]
    },
    {
      "cell_type": "code",
      "metadata": {
        "id": "VFpBcUIp2n3w",
        "colab_type": "code",
        "colab": {}
      },
      "source": [
        "import tensorflow as tf\n",
        "tf.test.gpu_device_name()\n",
        "sess = tf.InteractiveSession()"
      ],
      "execution_count": 0,
      "outputs": []
    },
    {
      "cell_type": "code",
      "metadata": {
        "id": "iDyMdLvY2qr6",
        "colab_type": "code",
        "colab": {}
      },
      "source": [
        "x = tf.placeholder(tf.float32, shape=[None, 784])\n",
        "y_ = tf.placeholder(tf.float32, shape=[None, 10])"
      ],
      "execution_count": 0,
      "outputs": []
    },
    {
      "cell_type": "code",
      "metadata": {
        "id": "wSoObGtyUZ-K",
        "colab_type": "code",
        "colab": {}
      },
      "source": [
        "def weight_variable(shape):\n",
        "  initial = tf.truncated_normal(shape, stddev=0.1)\n",
        "  return tf.Variable(initial)\n",
        "\n",
        "def bias_variable(shape):\n",
        "  initial = tf.constant(0.1, shape=shape)\n",
        "  return tf.Variable(initial)"
      ],
      "execution_count": 0,
      "outputs": []
    },
    {
      "cell_type": "code",
      "metadata": {
        "id": "BWKXC_-HQAp3",
        "colab_type": "code",
        "colab": {}
      },
      "source": [
        "def conv2d(x, W):\n",
        "  return tf.nn.conv2d(x, W, strides=[1, 1, 1, 1], padding='SAME')\n",
        "\n",
        "def max_pool_2x2(x):\n",
        "  return tf.nn.max_pool(x, ksize=[1, 2, 2, 1],\n",
        "                        strides=[1, 2, 2, 1], padding='SAME')"
      ],
      "execution_count": 0,
      "outputs": []
    },
    {
      "cell_type": "code",
      "metadata": {
        "id": "8ctzbiU9U7Ns",
        "colab_type": "code",
        "colab": {}
      },
      "source": [
        "W_conv1 = weight_variable([5, 5, 1, 32])\n",
        "b_conv1 = bias_variable([32])\n",
        "\n",
        "x_image = tf.reshape(x, [-1,28,28,1])\n",
        "\n",
        "h_conv1 = tf.nn.relu(conv2d(x_image, W_conv1) + b_conv1)\n",
        "h_pool1 = max_pool_2x2(h_conv1)\n",
        "\n",
        "W_conv2 = weight_variable([5, 5, 32, 64])\n",
        "b_conv2 = bias_variable([64])\n",
        "\n",
        "h_conv2 = tf.nn.relu(conv2d(h_pool1, W_conv2) + b_conv2)\n",
        "h_pool2 = max_pool_2x2(h_conv2)\n",
        "\n",
        "W_fc1 = weight_variable([7 * 7 * 64, 1024])\n",
        "b_fc1 = bias_variable([1024])\n",
        "\n",
        "h_pool2_flat = tf.reshape(h_pool2, [-1, 7*7*64])\n",
        "h_fc1 = tf.nn.relu(tf.matmul(h_pool2_flat, W_fc1) + b_fc1)\n",
        "\n",
        "keep_prob = tf.placeholder(tf.float32)\n",
        "h_fc1_drop = tf.nn.dropout(h_fc1, keep_prob)\n",
        "\n",
        "W_fc2 = weight_variable([1024, 10])\n",
        "b_fc2 = bias_variable([10])\n",
        "\n",
        "y_conv = tf.matmul(h_fc1_drop, W_fc2) + b_fc2"
      ],
      "execution_count": 0,
      "outputs": []
    },
    {
      "cell_type": "code",
      "metadata": {
        "id": "mRAN3DMMU8Fk",
        "colab_type": "code",
        "outputId": "5556b16f-3b5d-4b16-d7ab-fb9fffc4a963",
        "colab": {
          "base_uri": "https://localhost:8080/",
          "height": 882
        }
      },
      "source": [
        "training_acc_array = []\n",
        "validation_acc_array = []\n",
        "training_err_array = []\n",
        "validation_err_array = []\n",
        "\n",
        "cross_entropy = tf.reduce_mean(\n",
        "    tf.nn.softmax_cross_entropy_with_logits(labels=y_, logits=y_conv))\n",
        "train_step = tf.train.AdamOptimizer(1e-4).minimize(cross_entropy)\n",
        "correct_prediction = tf.equal(tf.argmax(y_conv,1), tf.argmax(y_,1))\n",
        "accuracy = tf.reduce_mean(tf.cast(correct_prediction, tf.float32))\n",
        "sess.run(tf.global_variables_initializer())\n",
        "for i in range(20000):\n",
        "  batch = mnist.train.next_batch(50)\n",
        "  if i%1000 == 0:\n",
        "    train_accuracy = accuracy.eval(feed_dict={\n",
        "        x:batch[0], y_: batch[1], keep_prob: 1.0})\n",
        "  \n",
        "    \n",
        "    training_acc_array.append(train_accuracy)\n",
        "    \n",
        "    print(\"step %d, training accuracy %g\"%(i, train_accuracy))\n",
        "  train_step.run(feed_dict={x: batch[0], y_: batch[1], keep_prob: 0.5})\n",
        "  \n",
        "  if i%1000 == 0:\n",
        "    val_accuracy = accuracy.eval(feed_dict={\n",
        "    x: mnist.validation.images, y_: mnist.validation.labels, keep_prob: 1.0})\n",
        "    \n",
        "    validation_acc_array.append(val_accuracy)\n",
        "    \n",
        "    print(\"step %d, validation accuracy %g\"%(i, val_accuracy))\n",
        "    "
      ],
      "execution_count": 0,
      "outputs": [
        {
          "output_type": "stream",
          "text": [
            "WARNING:tensorflow:From <ipython-input-8-de88780009ec>:7: softmax_cross_entropy_with_logits (from tensorflow.python.ops.nn_ops) is deprecated and will be removed in a future version.\n",
            "Instructions for updating:\n",
            "\n",
            "Future major versions of TensorFlow will allow gradients to flow\n",
            "into the labels input on backprop by default.\n",
            "\n",
            "See tf.nn.softmax_cross_entropy_with_logits_v2.\n",
            "\n",
            "step 0, training accuracy 0.04\n",
            "step 0, validation accuracy 0.1104\n",
            "step 1000, training accuracy 0.98\n",
            "step 1000, validation accuracy 0.964\n",
            "step 2000, training accuracy 0.98\n",
            "step 2000, validation accuracy 0.979\n",
            "step 3000, training accuracy 1\n",
            "step 3000, validation accuracy 0.9836\n",
            "step 4000, training accuracy 0.98\n",
            "step 4000, validation accuracy 0.9842\n",
            "step 5000, training accuracy 0.96\n",
            "step 5000, validation accuracy 0.9866\n",
            "step 6000, training accuracy 1\n",
            "step 6000, validation accuracy 0.988\n",
            "step 7000, training accuracy 1\n",
            "step 7000, validation accuracy 0.9888\n",
            "step 8000, training accuracy 0.98\n",
            "step 8000, validation accuracy 0.9896\n",
            "step 9000, training accuracy 1\n",
            "step 9000, validation accuracy 0.9904\n",
            "step 10000, training accuracy 1\n",
            "step 10000, validation accuracy 0.992\n",
            "step 11000, training accuracy 1\n",
            "step 11000, validation accuracy 0.9906\n",
            "step 12000, training accuracy 1\n",
            "step 12000, validation accuracy 0.9922\n",
            "step 13000, training accuracy 1\n",
            "step 13000, validation accuracy 0.9904\n",
            "step 14000, training accuracy 0.98\n",
            "step 14000, validation accuracy 0.991\n",
            "step 15000, training accuracy 1\n",
            "step 15000, validation accuracy 0.9914\n",
            "step 16000, training accuracy 1\n",
            "step 16000, validation accuracy 0.992\n",
            "step 17000, training accuracy 1\n",
            "step 17000, validation accuracy 0.9922\n",
            "step 18000, training accuracy 1\n",
            "step 18000, validation accuracy 0.9924\n",
            "step 19000, training accuracy 1\n",
            "step 19000, validation accuracy 0.9924\n"
          ],
          "name": "stdout"
        }
      ]
    },
    {
      "cell_type": "code",
      "metadata": {
        "id": "gs_0XDqGPm6l",
        "colab_type": "code",
        "outputId": "46ec1293-484f-4ac4-9abb-9195ec6ddea5",
        "colab": {
          "base_uri": "https://localhost:8080/",
          "height": 492
        }
      },
      "source": [
        "import time\n",
        "import pandas as pd\n",
        "import seaborn as sns\n",
        "import matplotlib.pyplot as plt\n",
        "import numpy as np\n",
        "\n",
        "\n",
        "def plot(validation_array,training_array):\n",
        "\n",
        "  \n",
        "    x = np.array(list(range(20)))\n",
        "    valid = np.array(validation_array)\n",
        "    train = np.array(training_array)\n",
        "    print(valid)\n",
        "    print(train)\n",
        "    fig = plt.figure()\n",
        "    fig.suptitle('Accuracy Graph')\n",
        "    sns.set_style(\"darkgrid\")\n",
        "\n",
        "    plt.plot(x,validation_array, label = \"accuracy validasi\")\n",
        "    plt.plot(x,training_array, label = \"accuracy training\")\n",
        "\n",
        "    plt.xlabel('Batch')\n",
        "    plt.ylabel('accuracy')\n",
        "    plt.legend()\n",
        "\n",
        "    return plt.show()\n",
        "  \n",
        "plot(validation_acc_array,training_acc_array)"
      ],
      "execution_count": 0,
      "outputs": [
        {
          "output_type": "stream",
          "text": [
            "[0.0982 0.9626 0.975  0.9796 0.9858 0.9872 0.9858 0.9866 0.9898 0.9896\n",
            " 0.9894 0.9918 0.9916 0.9912 0.9922 0.9916 0.9922 0.991  0.9912 0.9896]\n",
            "[0.18 0.96 1.   0.98 0.96 1.   0.96 1.   1.   1.   1.   1.   1.   1.\n",
            " 1.   1.   1.   1.   1.   1.  ]\n"
          ],
          "name": "stdout"
        },
        {
          "output_type": "display_data",
          "data": {
            "image/png": "[encoded data removed]",
            "text/plain": [
              "<matplotlib.figure.Figure at 0x7f230a96b668>"
            ]
          },
          "metadata": {
            "tags": []
          }
        }
      ]
    },
    {
      "cell_type": "markdown",
      "metadata": {
        "id": "dvknSrB7Oryg",
        "colab_type": "text"
      },
      "source": [
        ""
      ]
    }
  ]
}